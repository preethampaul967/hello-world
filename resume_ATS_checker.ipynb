{
  "nbformat": 4,
  "nbformat_minor": 0,
  "metadata": {
    "colab": {
      "name": "resume ATS checker.ipynb",
      "provenance": [],
      "authorship_tag": "ABX9TyO2wrwfc6xfExrLw2TuZcaz",
      "include_colab_link": true
    },
    "kernelspec": {
      "name": "python3",
      "display_name": "Python 3"
    }
  },
  "cells": [
    {
      "cell_type": "markdown",
      "metadata": {
        "id": "view-in-github",
        "colab_type": "text"
      },
      "source": [
        "<a href=\"https://colab.research.google.com/github/preethampaul967/hello-world/blob/master/resume_ATS_checker.ipynb\" target=\"_parent\"><img src=\"https://colab.research.google.com/assets/colab-badge.svg\" alt=\"Open In Colab\"/></a>"
      ]
    },
    {
      "cell_type": "markdown",
      "metadata": {
        "id": "5tE1Pt272PYC",
        "colab_type": "text"
      },
      "source": [
        ""
      ]
    },
    {
      "cell_type": "code",
      "metadata": {
        "id": "ppe09ABZ2Fjc",
        "colab_type": "code",
        "colab": {}
      },
      "source": [
        ""
      ],
      "execution_count": null,
      "outputs": []
    },
    {
      "cell_type": "markdown",
      "metadata": {
        "id": "0P-bksMu2NEX",
        "colab_type": "text"
      },
      "source": [
        "Resume to job description matching percentage"
      ]
    },
    {
      "cell_type": "code",
      "metadata": {
        "id": "VB-uGutd2fkw",
        "colab_type": "code",
        "colab": {
          "base_uri": "https://localhost:8080/",
          "height": 168
        },
        "outputId": "69c55047-749c-448b-8a1e-74d0de641884"
      },
      "source": [
        "pip install docx2txt\n"
      ],
      "execution_count": 1,
      "outputs": [
        {
          "output_type": "stream",
          "text": [
            "Collecting docx2txt\n",
            "  Downloading https://files.pythonhosted.org/packages/7d/7d/60ee3f2b16d9bfdfa72e8599470a2c1a5b759cb113c6fe1006be28359327/docx2txt-0.8.tar.gz\n",
            "Building wheels for collected packages: docx2txt\n",
            "  Building wheel for docx2txt (setup.py) ... \u001b[?25l\u001b[?25hdone\n",
            "  Created wheel for docx2txt: filename=docx2txt-0.8-cp36-none-any.whl size=3963 sha256=567d782c32c64b6dc555e1a220e2bfd99b6ae8e42d01515f1edea2c88046caa9\n",
            "  Stored in directory: /root/.cache/pip/wheels/b2/1f/26/a051209bbb77fc6bcfae2bb7e01fa0ff941b82292ab084d596\n",
            "Successfully built docx2txt\n",
            "Installing collected packages: docx2txt\n",
            "Successfully installed docx2txt-0.8\n"
          ],
          "name": "stdout"
        }
      ]
    },
    {
      "cell_type": "code",
      "metadata": {
        "id": "2qtqM7532rck",
        "colab_type": "code",
        "colab": {
          "resources": {
            "http://localhost:8080/nbextensions/google.colab/files.js": {
              "data": "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",
              "ok": true,
              "headers": [
                [
                  "content-type",
                  "application/javascript"
                ]
              ],
              "status": 200,
              "status_text": ""
            }
          },
          "base_uri": "https://localhost:8080/",
          "height": 106
        },
        "outputId": "6e6cd6fe-3d4f-4b2f-9467-ffc33dedb3a4"
      },
      "source": [
        "import docx2txt\n",
        "from google.colab import files\n",
        "uploaded = files.upload()"
      ],
      "execution_count": 4,
      "outputs": [
        {
          "output_type": "display_data",
          "data": {
            "text/html": [
              "\n",
              "     <input type=\"file\" id=\"files-0ad13da4-337d-4dfb-b418-909791883a60\" name=\"files[]\" multiple disabled\n",
              "        style=\"border:none\" />\n",
              "     <output id=\"result-0ad13da4-337d-4dfb-b418-909791883a60\">\n",
              "      Upload widget is only available when the cell has been executed in the\n",
              "      current browser session. Please rerun this cell to enable.\n",
              "      </output>\n",
              "      <script src=\"/nbextensions/google.colab/files.js\"></script> "
            ],
            "text/plain": [
              "<IPython.core.display.HTML object>"
            ]
          },
          "metadata": {
            "tags": []
          }
        },
        {
          "output_type": "stream",
          "text": [
            "Saving Job Description.docx to Job Description.docx\n",
            "Saving Teleperformace.docx to Teleperformace (1).docx\n"
          ],
          "name": "stdout"
        }
      ]
    },
    {
      "cell_type": "code",
      "metadata": {
        "id": "wtKSjjTy2rs-",
        "colab_type": "code",
        "colab": {
          "base_uri": "https://localhost:8080/",
          "height": 1000
        },
        "outputId": "6864de0d-61ab-44f4-eb40-ccf53edf90e9"
      },
      "source": [
        "resume = docx2txt.process(\"Teleperformace.docx\")\n",
        "print(resume)"
      ],
      "execution_count": 6,
      "outputs": [
        {
          "output_type": "stream",
          "text": [
            "Paul\n",
            "\n",
            "Alice Crescent, Scarborough, ON\n",
            "\n",
            " 647-685-3987 | preetham.paul147@outlook.com\n",
            "\n",
            "\t__________________________________________________________________________________________\n",
            "\n",
            "\n",
            "\n",
            "Professional Objective\t\t\t\t\t\t\t\n",
            "\n",
            "To attain Data Analyst / Computer Technician position, my experience and skills to generate good strategies by serving the best of the project team and company with passion, and to enhance productivity and meet project goals. \n",
            "\n",
            "Passionate about translating business questions into actionable reports and insights, story-telling, coding software programs, solving complex problems, translating large sets of data into information, and information into meaningful insights, interpreting them for making business decisions, and implement reporting dashboards.\n",
            "\n",
            "Professional Summary\n",
            "\n",
            "As a System Administrator in my previous jobs, I have had the accountability for escalation of technical problems, managing numerous concurrent troubleshooting through all various strategies and concepts such as remotely logging, determining the issue in the hardware, and technical parameters. \n",
            "\n",
            "\n",
            "\n",
            "Along with background and knowledge of Technical Service and Troubleshooting Training, sustaining high standards of safety performance thereby maintaining quality standards and minimizing Technician costs and liabilities, has been a consistency maintained throughout the tenure in the company. \n",
            "\n",
            "\n",
            "\n",
            "I am an analytical, insightful and highly disciplined problem solver with a demonstrated ability to identify and secure project resources and provide with quality leadership that involve a very committed professional participation. \n",
            "\n",
            "Some of the Qualities and Credentials I have to offer are: \n",
            "\n",
            "Strong grasp of computer troubleshooting, assorted operating systems, numerous application and mixed platforms \n",
            "\n",
            "Demonstrated strengths in rapidly diagnosing, troubleshooting and resolving client issues \n",
            "\n",
            "Excellent customer communication, organizational and interpersonal skills. \n",
            "\n",
            "Leadership, organizational, oral/written communication, interpersonal, analytical and problem-solving skills. \n",
            "\n",
            "Ability to manage escalating/expedited client request with high level of accuracy \n",
            "\n",
            "Ability to maintain and create a fun, casual, professional and productive team atmosphere.\n",
            "\n",
            "Relevant Experience\n",
            "\n",
            "Data Analyst\t\t\t\t\t\t\t\t\t\tApr 2020 - present\n",
            "\n",
            "XAXIS IT Solutions, Toronto\n",
            "\n",
            "Objective of this project is to collect the data from data sources, analyze the Customer’s health information and recommend the correct insurance plan for the customer with the help of machine learning.\n",
            "\n",
            "Responsibilities:\n",
            "\n",
            "Responsible for (ETL) Data Extraction, Transformation and Loading into Pandas DataFrame from SQL Server.\n",
            "\n",
            "Performed Data Cleaning, Outlier Detection and Treatment, Feature Engineering using Python and other Python libraries like Pandas, NumPy along with user defined functions.\n",
            "\n",
            "Analysing and visualizing the data by Exploratory Data Analysis (EDA) using Matplotlib and seaborn.\n",
            "\n",
            "Visualized different features of the data of customer health in determining the best price for insurance.\n",
            "\n",
            "Identifying distinct groups for customers based on key attributes and claim history.\n",
            "\n",
            "Worked with dimensionality reduction techniques like PCA, LDA, also used t-SNE (t-Distributed Stochastic Neighbour Embedding) and balanced the data for accuracy.\n",
            "\n",
            "Using machine learning algorithms like logistic regression, Decision tree, random forest, SVM, and Ensemble model to build a best fit model.\n",
            "\n",
            "Performed unit testing for the models using accuracy, precision, confusion matrix etc.\n",
            "\n",
            "Created and maintained reports to display the status and performance of model and algorithm with Tableau\n",
            "\n",
            "The jobs were made to run successfully by solving data quality issues using SQL, efficient coding practices, macros and stored procedures.\n",
            "\n",
            "Environment: Python, SQL, Excel, Windows, Linux, Anaconda, Jupyter, Seaborn, Sci-kit learn, Machine learning algorithms, Dimensionality reduction techniques, Tableau.\n",
            "\n",
            "System Administrator\t\t\t\t\t\t\t\t\tJan 2019 – Mar 2020\n",
            "\n",
            "Work wave Technologies, Toronto\n",
            "\n",
            "Maintain and support systems, workstations, mobile devices, printers and peripherals; respond to user service requests; and resolve trouble tickets. Ensure system security for desktop, mobile and cloud environments.\n",
            "\n",
            "Provide personal day-to-day support to all employees.\n",
            "\n",
            "Assisted customers with problems relating to peripheral devices (printers, monitors, PC’s, etc.) and software applications (Microsoft Office), Operating Systems (Microsoft Windows 7 / 8 / 10 /XP)\n",
            "\n",
            "Delivered over 90% First Call Resolution for all phone-based tickets by utilizing strong critical thinking and troubleshooting skills to identify, research and resolving issues. \n",
            "\n",
            "Serve as the first point of contact for customers seeking technical assistance over the phone or email. \n",
            "\n",
            "Attentively managed SysAid ticketing system for departmental support. \n",
            "\n",
            "Set-up new workstations including monitors, phones, software and hardware using clone applications and installing necessary applications/ software required by the user. \n",
            "\n",
            "Remotely accessing hardware or software for clients to make changes and fix problems. \n",
            "\n",
            "\n",
            "\n",
            "Technical Analyst\t\t\t\t\t\t\t\t\tSep 2018 – Dec 2018\n",
            "\n",
            "CIBC, Toronto\n",
            "\n",
            "Demonstrate daily innate problem-solving capabilities and strengths in managing complex projects / events, meetings and calendars, for stakeholders and other C-level leaders.\n",
            "\n",
            "Produced specialized reporting packages and dashboards to resolve complex issues, achieving an 80% reduction of time and risk by 10% on standard client projects completion \n",
            "\n",
            "User documentation of integration, processes and solutions of 27+ data canter projects from statistical analysis using python, MS Excel database and process engineering \n",
            "\n",
            "Liaised with human recognition analysis to drive human efficiency, using predictive modelling in python and R, Statistical models, Various Regression Techniques, Decision Tree Algorithms, Cluster Analysis, revamping 35% decrease in health issues using unstructured data \n",
            "\n",
            "Led multi-disciplinary 6-person team to design, develop, and launch online application; prioritized and resolved financial planning goals with 45+ new features; presented to top executives at CIBC \n",
            "\n",
            "Managed a 6-member cross-functional discipline (product, engineering, IT, governance) team and coordinated with 6+ business teams towards successful launch of Lessons Learned DB \n",
            "\n",
            "Education History\n",
            "\n",
            "Cloud Computing for Big Data\t\t\t\t\t\t\t\t\n",
            "\n",
            "Lambton College, Toronto, ON\n",
            "\n",
            "Bachelors of Computer Science and Engineering\t\t\t\t\t\n",
            "\n",
            "Amity University, Gwalior, India\n",
            "\n",
            "Software’s and Tools\n",
            "\n",
            "Programming Languages: Python, SQL, R, MySQL.\n",
            "\n",
            "IDE: Jupyter, Anaconda, PyCharm.\n",
            "\n",
            "Operating systems: Windows, Linux.\n",
            "\n",
            "Tools: Power BI, Tableau, Microsoft Office, Advanced Excel (Macros, VBA, Formulas, Charting, Pivot Tables)\n",
            "\n",
            "Call Monitoring Software: SysAid, ServiceNow.\n",
            "\n",
            "Others: Data Analysis, Data Visualization, Data Mining, Machine Learning, PowerPoint.\n"
          ],
          "name": "stdout"
        }
      ]
    },
    {
      "cell_type": "code",
      "metadata": {
        "id": "FWRDnr6l2r0M",
        "colab_type": "code",
        "colab": {
          "base_uri": "https://localhost:8080/",
          "height": 54
        },
        "outputId": "6e652be8-1dfe-4dc9-cdb3-77ba3bf6a782"
      },
      "source": [
        "jobdescription = docx2txt.process( \"Job Description.docx\" )\n",
        "\n",
        "print(jobdescription)\n"
      ],
      "execution_count": 7,
      "outputs": [
        {
          "output_type": "stream",
          "text": [
            "Job Description What You’ll Be Doing You’ll be part of a dynamic team that provides advanced analytics services to assist Business Controls with effective risk management. You’ll lead the design, development, and implementation of actionable analytics solutions which help in strengthening the risk profiles across Personal and Small Business Banking. You’ll collaborate with partners from Business Controls, Risk Management, Product, and Frontline to identify and address emerging risk trends by leveraging data and analytics. How You’ll Succeed • Innovative Problem Solving – Actively lead the development, delivery, and continuous improvement of complex data analytics and visualization solutions. Focus on quality, depth of analysis, and clear communication of actionable recommendations. • Collaboration – Continuous collaboration with internal and external partners is key to success. Be open-minded, adapt quickly, and constantly acquire new knowledge. Identify new business opportunities and seek to optimize current processes to promote data-driven decision-making. • Communication – Actively listen to understand a business problem and effectively articulate data analysis, interpretation, and assessment using language catered towards the audience. Who You Are • You can demonstrate experience working with large datasets for advanced quantitative business and statistical analysis with technical experience in two or more of the following: SQL, Python, R, SAS, Tableau / BI Tools . You have s trong data profiling, cleaning, mining and modelling skills. • You have completed a Bachelor's Degree in Computer Science, Mathematics, Engineering or related field or equal work experience preferred. • You are analytical. You give meaning to data. You enjoy investigating complex problems, and making sense of information. You're confident in your ability to simplify and communicate in an impactful way. • You act like an owner. You thrive when you're empowered to take the lead, go above and beyond, and deliver results. • You love to learn. You're a self-starter - passionate about growing your knowledge and challenging the status quo. You know that there is no limit to what you can achieve. • You understand that success is in the details. You notice things that others don't. Your critical thinking skills help to inform your decision making. • Values matter to you. You bring your real self to work and you live our values - trust, teamwork, and accountability.\n"
          ],
          "name": "stdout"
        }
      ]
    },
    {
      "cell_type": "code",
      "metadata": {
        "id": "589Txg3k9ZqE",
        "colab_type": "code",
        "colab": {}
      },
      "source": [
        "text = [resume, jobdescription]"
      ],
      "execution_count": 9,
      "outputs": []
    },
    {
      "cell_type": "code",
      "metadata": {
        "id": "kQMKtXBW9Z8d",
        "colab_type": "code",
        "colab": {}
      },
      "source": [
        "from sklearn.feature_extraction.text import CountVectorizer\n",
        "cv = CountVectorizer()\n",
        "count_matrix = cv.fit_transform(text)"
      ],
      "execution_count": 11,
      "outputs": []
    },
    {
      "cell_type": "code",
      "metadata": {
        "id": "tXDrhSyC9aAN",
        "colab_type": "code",
        "colab": {
          "base_uri": "https://localhost:8080/",
          "height": 84
        },
        "outputId": "603bda3f-060f-4cfc-fdf1-59479ca834f3"
      },
      "source": [
        "from sklearn.metrics.pairwise import cosine_similarity\n",
        "\n",
        "#Print the similarity scores\n",
        "print(\"\\nSimilarity Scores:\")\n",
        "print(cosine_similarity(count_matrix))"
      ],
      "execution_count": 12,
      "outputs": [
        {
          "output_type": "stream",
          "text": [
            "\n",
            "Similarity Scores:\n",
            "[[1.        0.6271792]\n",
            " [0.6271792 1.       ]]\n"
          ],
          "name": "stdout"
        }
      ]
    },
    {
      "cell_type": "code",
      "metadata": {
        "id": "_nUUg1Qj9aE-",
        "colab_type": "code",
        "colab": {
          "base_uri": "https://localhost:8080/",
          "height": 34
        },
        "outputId": "eb0c7638-ab2b-4b55-e9d8-75a8e06b6ca6"
      },
      "source": [
        "matchPercentage = cosine_similarity(count_matrix)[0][1] * 100\n",
        "matchPercentage = round(matchPercentage, 2) # round to two decimal\n",
        "print(\"Your resume matches about \"+ str(matchPercentage)+ \"% of the job description.\")"
      ],
      "execution_count": 13,
      "outputs": [
        {
          "output_type": "stream",
          "text": [
            "Your resume matches about 62.72% of the job description.\n"
          ],
          "name": "stdout"
        }
      ]
    },
    {
      "cell_type": "code",
      "metadata": {
        "id": "EyTjeu689aIV",
        "colab_type": "code",
        "colab": {}
      },
      "source": [
        ""
      ],
      "execution_count": null,
      "outputs": []
    },
    {
      "cell_type": "code",
      "metadata": {
        "id": "L0iOIR159aCs",
        "colab_type": "code",
        "colab": {}
      },
      "source": [
        ""
      ],
      "execution_count": null,
      "outputs": []
    }
  ]
}